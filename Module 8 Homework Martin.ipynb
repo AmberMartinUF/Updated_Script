{
 "cells": [
  {
   "cell_type": "code",
   "execution_count": 4,
   "metadata": {},
   "outputs": [],
   "source": [
    "import pandas as pd\n",
    "import random"
   ]
  },
  {
   "cell_type": "code",
   "execution_count": 5,
   "metadata": {},
   "outputs": [],
   "source": [
    "#importing CSV file with all the movies I own\n",
    "#columns in the file include \"Title\", \"Watchability\", and \"Gener\"\n",
    "    #Title is the movie title for each movie\n",
    "    #Watchability is if I consider the movie an easy, medium, or hard movie to watch\n",
    "        #Easy is something I watch all the time and do not need tot concentrate while watching \n",
    "        #Medium is something I watch every know and then but not too often \n",
    "        #Hard is something I either never watch, something that requires a lot of attention, or a long, time consuming movie\n",
    "        #Genre includes Action, Animated, Comedy, Drama, Horror, Romantic Comedy, and Super Hero \n",
    "movies = pd.read_csv('Movies_we_own.csv')"
   ]
  },
  {
   "cell_type": "code",
   "execution_count": 6,
   "metadata": {},
   "outputs": [
    {
     "data": {
      "text/html": [
       "<div>\n",
       "<style scoped>\n",
       "    .dataframe tbody tr th:only-of-type {\n",
       "        vertical-align: middle;\n",
       "    }\n",
       "\n",
       "    .dataframe tbody tr th {\n",
       "        vertical-align: top;\n",
       "    }\n",
       "\n",
       "    .dataframe thead th {\n",
       "        text-align: right;\n",
       "    }\n",
       "</style>\n",
       "<table border=\"1\" class=\"dataframe\">\n",
       "  <thead>\n",
       "    <tr style=\"text-align: right;\">\n",
       "      <th></th>\n",
       "      <th>Title</th>\n",
       "      <th>Watchabilitty</th>\n",
       "      <th>Genre</th>\n",
       "    </tr>\n",
       "  </thead>\n",
       "  <tbody>\n",
       "    <tr>\n",
       "      <td>0</td>\n",
       "      <td>21</td>\n",
       "      <td>Hard</td>\n",
       "      <td>Drama</td>\n",
       "    </tr>\n",
       "    <tr>\n",
       "      <td>1</td>\n",
       "      <td>300</td>\n",
       "      <td>Hard</td>\n",
       "      <td>Action</td>\n",
       "    </tr>\n",
       "    <tr>\n",
       "      <td>2</td>\n",
       "      <td>10 things I hate about you</td>\n",
       "      <td>Medium</td>\n",
       "      <td>Romantic Comedy</td>\n",
       "    </tr>\n",
       "    <tr>\n",
       "      <td>3</td>\n",
       "      <td>12 Rounds</td>\n",
       "      <td>Hard</td>\n",
       "      <td>Action</td>\n",
       "    </tr>\n",
       "    <tr>\n",
       "      <td>4</td>\n",
       "      <td>2 Fast 2 Furious</td>\n",
       "      <td>Medium</td>\n",
       "      <td>Action</td>\n",
       "    </tr>\n",
       "  </tbody>\n",
       "</table>\n",
       "</div>"
      ],
      "text/plain": [
       "                        Title Watchabilitty            Genre\n",
       "0                          21          Hard            Drama\n",
       "1                         300          Hard           Action\n",
       "2  10 things I hate about you        Medium  Romantic Comedy\n",
       "3                   12 Rounds          Hard           Action\n",
       "4            2 Fast 2 Furious        Medium           Action"
      ]
     },
     "execution_count": 6,
     "metadata": {},
     "output_type": "execute_result"
    }
   ],
   "source": [
    "#shows the first 5 rows (Title, Watchability, Genre)\n",
    "#not sure why it added three extra columns\n",
    "movies.head()"
   ]
  },
  {
   "cell_type": "code",
   "execution_count": 7,
   "metadata": {},
   "outputs": [],
   "source": [
    "#List of the all the movie titles\n",
    "Title_Movie = movies.Title"
   ]
  },
  {
   "cell_type": "code",
   "execution_count": 8,
   "metadata": {},
   "outputs": [],
   "source": [
    "#Realizing my column Watchabilitty is misspelled with too many Ts at the end. Really need to get my \n",
    "#laptop's butterfuly keyboard fixed! \n",
    "#List of all the movies watchability\n",
    "Watchability = movies.Watchabilitty"
   ]
  },
  {
   "cell_type": "code",
   "execution_count": 9,
   "metadata": {},
   "outputs": [],
   "source": [
    "#List of all the movies genres \n",
    "Genre = movies.Genre "
   ]
  },
  {
   "cell_type": "code",
   "execution_count": null,
   "metadata": {},
   "outputs": [],
   "source": []
  },
  {
   "cell_type": "code",
   "execution_count": 10,
   "metadata": {},
   "outputs": [
    {
     "data": {
      "text/plain": [
       "'Shooter'"
      ]
     },
     "execution_count": 10,
     "metadata": {},
     "output_type": "execute_result"
    }
   ],
   "source": [
    "#This function will help on nights my Husband and myself cannot decide on a movie\n",
    "random.choice(Title_Movie)"
   ]
  },
  {
   "cell_type": "code",
   "execution_count": 11,
   "metadata": {
    "scrolled": true
   },
   "outputs": [
    {
     "data": {
      "text/plain": [
       "0      False\n",
       "1      False\n",
       "2      False\n",
       "3      False\n",
       "4      False\n",
       "       ...  \n",
       "326    False\n",
       "327    False\n",
       "328    False\n",
       "329    False\n",
       "330    False\n",
       "Name: Title, Length: 331, dtype: bool"
      ]
     },
     "execution_count": 11,
     "metadata": {},
     "output_type": "execute_result"
    }
   ],
   "source": [
    "#Checking to see if I already own this movie so I know whether to buy it or not \n",
    "#need to keep trying other codes so it just says True or False and does not give a list of each movie title \n",
    "('Good Dinosaur' == Title_Movie)"
   ]
  },
  {
   "cell_type": "code",
   "execution_count": 12,
   "metadata": {},
   "outputs": [
    {
     "data": {
      "text/plain": [
       "False"
      ]
     },
     "execution_count": 12,
     "metadata": {},
     "output_type": "execute_result"
    }
   ],
   "source": [
    "#tried to get another code to work so I would just get a True or False statement but was unable to figure it out\n",
    "#this code says everything is false even if the movie is listed \n",
    "'300' in (Title_Movie)"
   ]
  },
  {
   "cell_type": "code",
   "execution_count": 13,
   "metadata": {},
   "outputs": [],
   "source": [
    "#creating a new dictionary to add to CSV\n",
    "data = [{'Title': 'Good Dinosaur', 'Watchabilitty': 'Easy', 'Genre': 'Animated'}]"
   ]
  },
  {
   "cell_type": "code",
   "execution_count": 14,
   "metadata": {},
   "outputs": [
    {
     "data": {
      "text/html": [
       "<div>\n",
       "<style scoped>\n",
       "    .dataframe tbody tr th:only-of-type {\n",
       "        vertical-align: middle;\n",
       "    }\n",
       "\n",
       "    .dataframe tbody tr th {\n",
       "        vertical-align: top;\n",
       "    }\n",
       "\n",
       "    .dataframe thead th {\n",
       "        text-align: right;\n",
       "    }\n",
       "</style>\n",
       "<table border=\"1\" class=\"dataframe\">\n",
       "  <thead>\n",
       "    <tr style=\"text-align: right;\">\n",
       "      <th></th>\n",
       "      <th>Title</th>\n",
       "      <th>Watchabilitty</th>\n",
       "      <th>Genre</th>\n",
       "    </tr>\n",
       "  </thead>\n",
       "  <tbody>\n",
       "    <tr>\n",
       "      <td>0</td>\n",
       "      <td>21</td>\n",
       "      <td>Hard</td>\n",
       "      <td>Drama</td>\n",
       "    </tr>\n",
       "    <tr>\n",
       "      <td>1</td>\n",
       "      <td>300</td>\n",
       "      <td>Hard</td>\n",
       "      <td>Action</td>\n",
       "    </tr>\n",
       "    <tr>\n",
       "      <td>2</td>\n",
       "      <td>10 things I hate about you</td>\n",
       "      <td>Medium</td>\n",
       "      <td>Romantic Comedy</td>\n",
       "    </tr>\n",
       "    <tr>\n",
       "      <td>3</td>\n",
       "      <td>12 Rounds</td>\n",
       "      <td>Hard</td>\n",
       "      <td>Action</td>\n",
       "    </tr>\n",
       "    <tr>\n",
       "      <td>4</td>\n",
       "      <td>2 Fast 2 Furious</td>\n",
       "      <td>Medium</td>\n",
       "      <td>Action</td>\n",
       "    </tr>\n",
       "    <tr>\n",
       "      <td>...</td>\n",
       "      <td>...</td>\n",
       "      <td>...</td>\n",
       "      <td>...</td>\n",
       "    </tr>\n",
       "    <tr>\n",
       "      <td>327</td>\n",
       "      <td>X-Men Origins Wolverine</td>\n",
       "      <td>Hard</td>\n",
       "      <td>Super Hero</td>\n",
       "    </tr>\n",
       "    <tr>\n",
       "      <td>328</td>\n",
       "      <td>X-Men The Last Stand</td>\n",
       "      <td>Hard</td>\n",
       "      <td>Super Hero</td>\n",
       "    </tr>\n",
       "    <tr>\n",
       "      <td>329</td>\n",
       "      <td>X2: X-Men United</td>\n",
       "      <td>Hard</td>\n",
       "      <td>Super Hero</td>\n",
       "    </tr>\n",
       "    <tr>\n",
       "      <td>330</td>\n",
       "      <td>Zombieland</td>\n",
       "      <td>Medium</td>\n",
       "      <td>Comedy</td>\n",
       "    </tr>\n",
       "    <tr>\n",
       "      <td>331</td>\n",
       "      <td>Good Dinosaur</td>\n",
       "      <td>Easy</td>\n",
       "      <td>Animated</td>\n",
       "    </tr>\n",
       "  </tbody>\n",
       "</table>\n",
       "<p>332 rows × 3 columns</p>\n",
       "</div>"
      ],
      "text/plain": [
       "                          Title Watchabilitty            Genre\n",
       "0                            21          Hard            Drama\n",
       "1                           300          Hard           Action\n",
       "2    10 things I hate about you        Medium  Romantic Comedy\n",
       "3                     12 Rounds          Hard           Action\n",
       "4              2 Fast 2 Furious        Medium           Action\n",
       "..                          ...           ...              ...\n",
       "327     X-Men Origins Wolverine          Hard       Super Hero\n",
       "328        X-Men The Last Stand          Hard       Super Hero\n",
       "329            X2: X-Men United          Hard       Super Hero\n",
       "330                  Zombieland        Medium           Comedy\n",
       "331               Good Dinosaur          Easy         Animated\n",
       "\n",
       "[332 rows x 3 columns]"
      ]
     },
     "execution_count": 14,
     "metadata": {},
     "output_type": "execute_result"
    }
   ],
   "source": [
    "#appending the CSV with purchase of new movie\n",
    "#used this link to help create the code https://kanoki.org/2019/08/03/add-new-rows-and-columns-to-pandas-dataframe/\n",
    "movies.append(data,ignore_index=True)"
   ]
  },
  {
   "cell_type": "code",
   "execution_count": 15,
   "metadata": {},
   "outputs": [
    {
     "data": {
      "text/html": [
       "<div>\n",
       "<style scoped>\n",
       "    .dataframe tbody tr th:only-of-type {\n",
       "        vertical-align: middle;\n",
       "    }\n",
       "\n",
       "    .dataframe tbody tr th {\n",
       "        vertical-align: top;\n",
       "    }\n",
       "\n",
       "    .dataframe thead th {\n",
       "        text-align: right;\n",
       "    }\n",
       "</style>\n",
       "<table border=\"1\" class=\"dataframe\">\n",
       "  <thead>\n",
       "    <tr style=\"text-align: right;\">\n",
       "      <th></th>\n",
       "      <th>Title</th>\n",
       "      <th>Watchabilitty</th>\n",
       "      <th>Genre</th>\n",
       "    </tr>\n",
       "  </thead>\n",
       "  <tbody>\n",
       "    <tr>\n",
       "      <td>2</td>\n",
       "      <td>10 things I hate about you</td>\n",
       "      <td>Medium</td>\n",
       "      <td>Romantic Comedy</td>\n",
       "    </tr>\n",
       "    <tr>\n",
       "      <td>3</td>\n",
       "      <td>12 Rounds</td>\n",
       "      <td>Hard</td>\n",
       "      <td>Action</td>\n",
       "    </tr>\n",
       "    <tr>\n",
       "      <td>4</td>\n",
       "      <td>2 Fast 2 Furious</td>\n",
       "      <td>Medium</td>\n",
       "      <td>Action</td>\n",
       "    </tr>\n",
       "    <tr>\n",
       "      <td>0</td>\n",
       "      <td>21</td>\n",
       "      <td>Hard</td>\n",
       "      <td>Drama</td>\n",
       "    </tr>\n",
       "    <tr>\n",
       "      <td>5</td>\n",
       "      <td>21 Jump Street</td>\n",
       "      <td>Easy</td>\n",
       "      <td>Comedy</td>\n",
       "    </tr>\n",
       "    <tr>\n",
       "      <td>...</td>\n",
       "      <td>...</td>\n",
       "      <td>...</td>\n",
       "      <td>...</td>\n",
       "    </tr>\n",
       "    <tr>\n",
       "      <td>326</td>\n",
       "      <td>X-Men First Class</td>\n",
       "      <td>Hard</td>\n",
       "      <td>Super Hero</td>\n",
       "    </tr>\n",
       "    <tr>\n",
       "      <td>327</td>\n",
       "      <td>X-Men Origins Wolverine</td>\n",
       "      <td>Hard</td>\n",
       "      <td>Super Hero</td>\n",
       "    </tr>\n",
       "    <tr>\n",
       "      <td>328</td>\n",
       "      <td>X-Men The Last Stand</td>\n",
       "      <td>Hard</td>\n",
       "      <td>Super Hero</td>\n",
       "    </tr>\n",
       "    <tr>\n",
       "      <td>329</td>\n",
       "      <td>X2: X-Men United</td>\n",
       "      <td>Hard</td>\n",
       "      <td>Super Hero</td>\n",
       "    </tr>\n",
       "    <tr>\n",
       "      <td>330</td>\n",
       "      <td>Zombieland</td>\n",
       "      <td>Medium</td>\n",
       "      <td>Comedy</td>\n",
       "    </tr>\n",
       "  </tbody>\n",
       "</table>\n",
       "<p>331 rows × 3 columns</p>\n",
       "</div>"
      ],
      "text/plain": [
       "                          Title Watchabilitty            Genre\n",
       "2    10 things I hate about you        Medium  Romantic Comedy\n",
       "3                     12 Rounds          Hard           Action\n",
       "4              2 Fast 2 Furious        Medium           Action\n",
       "0                            21          Hard            Drama\n",
       "5                21 Jump Street          Easy           Comedy\n",
       "..                          ...           ...              ...\n",
       "326           X-Men First Class          Hard       Super Hero\n",
       "327     X-Men Origins Wolverine          Hard       Super Hero\n",
       "328        X-Men The Last Stand          Hard       Super Hero\n",
       "329            X2: X-Men United          Hard       Super Hero\n",
       "330                  Zombieland        Medium           Comedy\n",
       "\n",
       "[331 rows x 3 columns]"
      ]
     },
     "execution_count": 15,
     "metadata": {},
     "output_type": "execute_result"
    }
   ],
   "source": [
    "#sorting the movies in ascending order\n",
    "#meant for after appending in new movies \n",
    "movies.sort_values('Title', ascending = True)"
   ]
  },
  {
   "cell_type": "code",
   "execution_count": 40,
   "metadata": {},
   "outputs": [],
   "source": [
    "def random_movie (movies):\n",
    "    #picks a random movie from CSV file Movies_we_own\n",
    "    return random.choice(Title_Movie)\n",
    "    print(random_movie)"
   ]
  },
  {
   "cell_type": "code",
   "execution_count": 52,
   "metadata": {},
   "outputs": [],
   "source": [
    "def add_movie (movies):\n",
    "    #add newly purchased movies - Title, Watchability and Genre\n",
    "    df = (Title_Movie, Watchability, Genre)\n",
    "    df.append('Spider Man Homecoming', 'Medium', 'Super Hero')\n",
    "    print(Movies) "
   ]
  },
  {
   "cell_type": "code",
   "execution_count": 50,
   "metadata": {},
   "outputs": [],
   "source": [
    "def choose_by_genre (movies):\n",
    "    #Random movie by genre\n",
    "    return random.choice(Genre == Animated)\n",
    "    print(choose_by_genre)"
   ]
  },
  {
   "cell_type": "code",
   "execution_count": 45,
   "metadata": {},
   "outputs": [],
   "source": [
    "def movie (random_movie): \n",
    "    if input == 1:\n",
    "      return random_movie()\n",
    "    elif input == 2:\n",
    "       return add_movie()\n",
    "    elif input == 3:\n",
    "       return choose_by_genre()"
   ]
  },
  {
   "cell_type": "code",
   "execution_count": 46,
   "metadata": {},
   "outputs": [
    {
     "name": "stdout",
     "output_type": "stream",
     "text": [
      "Huntsman: Winter's War \n"
     ]
    }
   ],
   "source": [
    "print(random_movie(1))"
   ]
  },
  {
   "cell_type": "code",
   "execution_count": null,
   "metadata": {},
   "outputs": [],
   "source": []
  }
 ],
 "metadata": {
  "kernelspec": {
   "display_name": "Python 3",
   "language": "python",
   "name": "python3"
  },
  "language_info": {
   "codemirror_mode": {
    "name": "ipython",
    "version": 3
   },
   "file_extension": ".py",
   "mimetype": "text/x-python",
   "name": "python",
   "nbconvert_exporter": "python",
   "pygments_lexer": "ipython3",
   "version": "3.7.4"
  }
 },
 "nbformat": 4,
 "nbformat_minor": 2
}
